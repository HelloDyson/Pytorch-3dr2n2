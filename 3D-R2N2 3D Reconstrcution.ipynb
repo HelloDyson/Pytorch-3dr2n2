{
 "cells": [
  {
   "cell_type": "markdown",
   "metadata": {},
   "source": [
    "### 3D reconstruction from a single image.\n"
   ]
  },
  {
   "cell_type": "code",
   "execution_count": 1,
   "metadata": {},
   "outputs": [],
   "source": [
    "# import necessary packages\n",
    "import sys\n",
    "if (sys.version_info < (3, 0)):\n",
    "    raise Exception(\"Please follow the installation instruction on 'https://github.com/chrischoy/3D-R2N2'\")\n",
    "\n",
    "import numpy as np\n",
    "from PIL import Image\n",
    "\n",
    "from models import load_model\n",
    "from lib.solver import Solver\n",
    "from lib.voxel import voxel2obj\n",
    "from lib.data_augmentation import preprocess_img\n",
    "\n",
    "import matplotlib.pyplot as plt\n",
    "import torch"
   ]
  },
  {
   "cell_type": "code",
   "execution_count": 2,
   "metadata": {},
   "outputs": [],
   "source": [
    "# load trained weights\n",
    "TRAINED_WEIGHTS = 'output/default/checkpoint.10000.tar'"
   ]
  },
  {
   "cell_type": "code",
   "execution_count": 3,
   "metadata": {
    "scrolled": true
   },
   "outputs": [],
   "source": [
    "def load_multi_images(multi_path):\n",
    "    ims = []\n",
    "    for i in range(3):\n",
    "        im = preprocess_img(Image.open(multi_path[i]).resize((127,127)), train=False)\n",
    "        ims.append([np.array(im).transpose(\n",
    "            (2, 0, 1)).astype(np.float32)])\n",
    "        plt.imshow(im)\n",
    "        plt.show()\n",
    "    return np.array(ims)\n",
    "\n",
    "def load_single_image(single_path):\n",
    "    ims = []\n",
    "    im = preprocess_img(Image.open(single_path).resize((127,127)), train=False)\n",
    "    ims.append([np.array(im).transpose(\n",
    "        (2, 0, 1)).astype(np.float32)])\n",
    "    plt.imshow(im)\n",
    "    plt.show()\n",
    "    return np.array(ims)\n",
    "\n",
    "# -----------------------------------------------------------------------------\n",
    "\n",
    "def reconstruct(path, file_num = 0, do_single = True):\n",
    "\n",
    "    # load images\n",
    "    if do_single:\n",
    "        demo_imgs = load_single_image(path)\n",
    "    else:\n",
    "        demo_imgs = load_multi_images(path)\n",
    "    \n",
    "    # Use the default network model\n",
    "    NetClass = load_model('ResidualGRUNet')\n",
    "\n",
    "    # Define a network and a solver. Solver provides a wrapper for the test function.\n",
    "    net = NetClass()\n",
    "    \n",
    "    device = torch.device(\"cuda:0\" if torch.cuda.is_available() else \"cpu\")\n",
    "    \n",
    "#    net.cuda()\n",
    "    net.to(device)\n",
    "    \n",
    "    solver = Solver(net)\n",
    "    solver.load(TRAINED_WEIGHTS)\n",
    "    \n",
    "    # Run the network\n",
    "    voxel_prediction, _ = solver.test_output(demo_imgs)\n",
    "    \n",
    "    # convert prediction to obj and save it in the goven path\n",
    "    pred_file_name = 'prediction'+str(file_num)+'.obj'\n",
    "    \n",
    "    pred = voxel_prediction[0, 1, :, :, :].cpu().detach().numpy()\n",
    "\n",
    "    voxel2obj(pred_file_name, pred)\n",
    "    \n",
    "    print('OBJ fine saved')"
   ]
  },
  {
   "cell_type": "code",
   "execution_count": 5,
   "metadata": {},
   "outputs": [
    {
     "data": {
      "image/png": "[encoded data removed]",
      "text/plain": [
       "<Figure size 432x288 with 1 Axes>"
      ]
     },
     "metadata": {},
     "output_type": "display_data"
    },
    {
     "name": "stdout",
     "output_type": "stream",
     "text": [
      "\n",
      "initializing \"ResidualGRUNet\"\n",
      "\n",
      "initializing \"BaseGRUNet\"\n",
      "\n",
      "initializing \"Net\"\n",
      "\n",
      "initializing \"SoftmaxWithLoss3D\"\n",
      "\n",
      "initializing \"encoder\"\n",
      "\n",
      "initializing \"FCConv3DLayer_torch\"\n",
      "\n",
      "initializing \"FCConv3DLayer_torch\"\n",
      "\n",
      "initializing \"FCConv3DLayer_torch\"\n",
      "\n",
      "initializing \"decoder\"\n",
      "\n",
      "initializing \"Unpool3DLayer\"\n",
      "Set the learning rate to 0.000100.\n",
      "loading checkpoint from 'output/default/checkpoint.10000.tar'\n",
      "y_val.shape: torch.Size([1, 2, 32, 32, 32])\n",
      "OBJ fine saved\n"
     ]
    }
   ],
   "source": [
    "# define the path of your imgs\n",
    "# single image path\n",
    "single_path = 'imgs/0.jpg'\n",
    "\n",
    "# multiple images path\n",
    "multi_path = ['imgs/0.png', 'imgs/1.png', 'imgs/2.png']\n",
    "\n",
    "    \n",
    "reconstruct(single_path)"
   ]
  },
  {
   "cell_type": "code",
   "execution_count": null,
   "metadata": {},
   "outputs": [],
   "source": []
  }
 ],
 "metadata": {
  "kernelspec": {
   "display_name": "Environment (conda_pytorch_p36)",
   "language": "python",
   "name": "conda_pytorch_p36"
  },
  "language_info": {
   "codemirror_mode": {
    "name": "ipython",
    "version": 3
   },
   "file_extension": ".py",
   "mimetype": "text/x-python",
   "name": "python",
   "nbconvert_exporter": "python",
   "pygments_lexer": "ipython3",
   "version": "3.6.5"
  }
 },
 "nbformat": 4,
 "nbformat_minor": 2
}

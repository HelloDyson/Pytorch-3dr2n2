{
 "cells": [
  {
   "cell_type": "code",
   "execution_count": null,
   "metadata": {},
   "outputs": [],
   "source": [
    "import os\n",
    "import shutil \n",
    "\n",
    "root_folder = \"data/ShapeNetRendering\"\n",
    "target_folder = \"data/Rendering\"\n",
    "shutil.rmtree(target_folder)\n",
    "\n",
    "for label in os.listdir(root_folder):\n",
    "    \n",
    "    for model_id in os.listdir(root_folder+'/'+label):\n",
    "        for file in os.listdir(root_folder+'/'+label+'/'+model_id+'/rendering'):\n",
    "            if os.path.exists(target_folder+'/'+label+'-'+model_id):\n",
    "                shutil.rmtree(target_folder+'/'+label+'-'+model_id)\n",
    "            os.makedirs(target_folder+'/'+label+'-'+model_id)\n",
    "            shutil.copy(root_folder+'/'+label+'/'+model_id+'/rendering/'+file,target_folder+'/'+label+'-'+model_id+'/'+file)"
   ]
  },
  {
   "cell_type": "code",
   "execution_count": null,
   "metadata": {},
   "outputs": [],
   "source": [
    "import os\n",
    "import shutil\n",
    "import scipy.io as sio\n",
    "import scipy\n",
    "import numpy as np\n",
    "from lib.binvox_rw import read_as_3d_array\n",
    "\n",
    "root_folder = \"data/ShapeNetVox32\"\n",
    "target_folder = \"data/voxel\"\n",
    "shutil.rmtree(target_folder)\n",
    "\n",
    "for label in os.listdir(root_folder):\n",
    "  \n",
    "#     os.makedirs(target_folder+'/'+label)\n",
    "    for model_id in os.listdir(root_folder+'/'+label):\n",
    "        for file in os.listdir(root_folder+'/'+label+'/'+model_id):\n",
    "            if os.path.exists(target_folder+'/'+label+'-'+model_id):\n",
    "                shutil.rmtree(target_folder+'/'+label+'-'+model_id)\n",
    "            os.makedirs(target_folder+'/'+label+'-'+model_id)\n",
    "            with open(root_folder+'/'+label+'/'+model_id+'/'+file,'rb') as voxfile:\n",
    "#                 vox = read_as_3d_array(voxfile)\n",
    "                vox = np.int32(read_as_3d_array(voxfile).data)\n",
    "                np.save(target_folder+'/'+label+'-'+model_id+'/'+file+'.npy',vox)"
   ]
  }
 ],
 "metadata": {
  "kernelspec": {
   "display_name": "Python [conda env:torch36]",
   "language": "python",
   "name": "conda-env-torch36-py"
  },
  "language_info": {
   "codemirror_mode": {
    "name": "ipython",
    "version": 3
   },
   "file_extension": ".py",
   "mimetype": "text/x-python",
   "name": "python",
   "nbconvert_exporter": "python",
   "pygments_lexer": "ipython3",
   "version": "3.6.7"
  }
 },
 "nbformat": 4,
 "nbformat_minor": 2
}
